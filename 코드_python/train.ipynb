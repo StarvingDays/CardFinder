{
 "cells": [
  {
   "cell_type": "code",
   "execution_count": 15,
   "metadata": {},
   "outputs": [],
   "source": [
    "\n",
    "import torch\n",
    "import torch.nn as nn\n",
    "import torch.optim as optim\n",
    "\n",
    "from util import AverageMeter\n",
    "\n",
    "from cnn import CNN\n",
    "\n",
    "from create_lmdb_dataset import createDataset\n",
    "\n",
    "from MakeCSV import MakeCSV, CalcMeanStdFromCSV\n",
    "\n",
    "from torch.autograd import Variable\n",
    "\n",
    "import dataset\n"
   ]
  },
  {
   "cell_type": "code",
   "execution_count": 2,
   "metadata": {},
   "outputs": [],
   "source": [
    "BATCH_SIZE = 600                \n",
    "EPOCH = 100\n",
    "DEVICE = 'cuda' if torch.cuda.is_available() else 'cpu'\n",
    "torch.manual_seed(777)\n",
    "total_rate = 0.0\n",
    "filename = ''"
   ]
  },
  {
   "cell_type": "code",
   "execution_count": 7,
   "metadata": {},
   "outputs": [],
   "source": [
    "# MakeCSV('./dataset_val/number', 'dataset_val_number.csv')\n",
    "# MakeCSV('./dataset_val/alphabet', 'dataset_val_alphabet.csv')\n",
    "\n",
    "# CalcMeanStdFromCSV(dataset_val_number)\n",
    "# CalcMeanStdFromCSV(dataset_val_alphabet)\n",
    "\n",
    "# createDataset('./dataset_train_number.csv', './lmdb_data/number/train')\n",
    "# createDataset('./dataset_val_number.csv', './lmdb_data/number/val')\n",
    "# createDataset('./dataset_train_alphabet.csv', './lmdb_data/alphabet/train')\n",
    "# createDataset('./dataset_val_alphabet.csv', './lmdb_data/alphabet/val')"
   ]
  },
  {
   "cell_type": "code",
   "execution_count": 3,
   "metadata": {},
   "outputs": [],
   "source": [
    "def data_loader():\n",
    "\n",
    "    train_dataset = dataset.lmdbDataset(root='./lmdb_data/number/train')\n",
    "    # train_dataset = dataset.lmdbDataset(root='./lmdb_data/alphabet/train')\n",
    "    assert train_dataset\n",
    "\n",
    "    train_loader = torch.utils.data.DataLoader(train_dataset, batch_size=BATCH_SIZE,\n",
    "    shuffle=True, num_workers=int(0), drop_last=True)\n",
    "    \n",
    "    val_dataset = dataset.lmdbDataset(root='./lmdb_data/number/val')\n",
    "    # val_dataset = dataset.lmdbDataset(root='./lmdb_data/alphabet/val')\n",
    "    assert val_dataset\n",
    "\n",
    "    val_loader = torch.utils.data.DataLoader(val_dataset, shuffle=True, batch_size=10, \n",
    "    num_workers=int(0), drop_last=True)\n",
    "    \n",
    "    return train_loader, val_loader\n",
    "\n"
   ]
  },
  {
   "cell_type": "code",
   "execution_count": 11,
   "metadata": {},
   "outputs": [],
   "source": [
    "def train(model, train_loader, optm, criterion):\n",
    "    model.train()\n",
    "    for iter, (X, Y) in enumerate(train_loader): \n",
    "        X = Variable(X).unsqueeze(1)\n",
    "        Y = Variable(Y)   \n",
    "        X = X.to(DEVICE)\n",
    "        Y = Y.to(DEVICE)\n",
    "\n",
    "        optm.zero_grad()\n",
    "        hypothesis = model(X)\n",
    "        loss = criterion(hypothesis, Y)\n",
    "        loss.backward()\n",
    "        optm.step()\n",
    "\n",
    "        pred_label = torch.argmax(hypothesis, 1)\n",
    "        acc = (pred_label == Y).sum().item() / len(X)\n",
    "        \n",
    "        train_loss = loss.item()\n",
    "        train_acc = acc\n",
    "        print('train_loss : ', train_loss, ', ', 'train_acc : ', train_acc)\n",
    "    \n",
    "\n",
    "def validation(model, val_loader, criterion, epoch):\n",
    "    model.eval()\n",
    "    valid_loss, valid_acc = AverageMeter(), AverageMeter()\n",
    "    \n",
    "    for iter, (X, Y) in enumerate(val_loader):\n",
    "        X = Variable(X).unsqueeze(1)\n",
    "        Y = Variable(Y)   \n",
    "        X = X.to(DEVICE)\n",
    "        Y = Y.to(DEVICE)\n",
    "\n",
    "        with torch.no_grad():\n",
    "            pred_logit = model(X)\n",
    "\n",
    "        loss = criterion(pred_logit, Y)\n",
    "        pred_label = torch.argmax(pred_logit, 1)\n",
    "        acc = (pred_label == Y).sum().item() / len(X)\n",
    "\n",
    "        valid_loss.update(loss.item(), len(X))\n",
    "        valid_acc.update(acc, len(X))\n",
    "\n",
    "    valid_loss = valid_loss.avg\n",
    "    valid_acc = valid_acc.avg\n",
    "    global total_rate\n",
    "    total_rate = valid_acc - valid_loss\n",
    "    global filename\n",
    "    filename = './model_result' + '/' + str(epoch) + '_' + str(iter) + '_' + 'model' + '_' + str(total_rate) + '.pt'\n",
    "    traced = torch.jit.trace(model, torch.randn(1, 1, 28, 28))\n",
    "    traced.save(filename)\n",
    "    print(filename, ', ', 'accuracy : ', valid_acc, ', ', 'loss : ', valid_loss)\n",
    "    "
   ]
  },
  {
   "cell_type": "code",
   "execution_count": 12,
   "metadata": {},
   "outputs": [],
   "source": [
    "train_loader, val_loader = data_loader()\n",
    "model = CNN(10).to(device=DEVICE)\n",
    "# model = CNN(26).to(device=DEVICE)\n",
    "criterion = nn.CrossEntropyLoss().to(DEVICE)\n",
    "optm = optim.Adam(model.parameters(), lr=0.0005)                                             "
   ]
  },
  {
   "cell_type": "code",
   "execution_count": null,
   "metadata": {},
   "outputs": [],
   "source": [
    "total_rate = 0.0\n",
    "for epoch in range(80):\n",
    "    print('epoch : ', epoch)\n",
    "    train(model, train_loader, optm, criterion)\n",
    "    validation(model, val_loader, criterion, epoch)\n",
    "    print('total_rate : ', total_rate, 'filename : ', filename)\n"
   ]
  },
  {
   "cell_type": "code",
   "execution_count": null,
   "metadata": {},
   "outputs": [],
   "source": [
    "# quantized_model = torch.quantization.quantize_dynamic(model, dtype=torch.qint8, inplace=True)\n",
    "# filename = './model_result_quant' + '/' + 'quant' + '_' + str(epoch) + '_' + str(iter) + '_' + 'model' + '_' + str(total_rate) + '.pt'\n",
    "# traced = torch.jit.trace(quantized_model, torch.randn(1, 1, 28, 28))\n",
    "# traced.save(filename)"
   ]
  }
 ],
 "metadata": {
  "kernelspec": {
   "display_name": "venv",
   "language": "python",
   "name": "python3"
  },
  "language_info": {
   "codemirror_mode": {
    "name": "ipython",
    "version": 3
   },
   "file_extension": ".py",
   "mimetype": "text/x-python",
   "name": "python",
   "nbconvert_exporter": "python",
   "pygments_lexer": "ipython3",
   "version": "3.9.13"
  },
  "orig_nbformat": 4
 },
 "nbformat": 4,
 "nbformat_minor": 2
}
